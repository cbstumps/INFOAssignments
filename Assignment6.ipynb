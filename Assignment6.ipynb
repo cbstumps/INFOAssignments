{
 "cells": [
  {
   "cell_type": "markdown",
   "id": "2006530b-f32f-4007-afb6-add9bbb99fdb",
   "metadata": {},
   "source": [
    "Deep Thought"
   ]
  },
  {
   "cell_type": "code",
   "execution_count": 11,
   "id": "befcee8d-e0b3-45cd-aea4-497ff1ca7ac3",
   "metadata": {},
   "outputs": [
    {
     "name": "stdin",
     "output_type": "stream",
     "text": [
      "What is the answer to the Great Question of Life, the Universe and Everything? (q to quit) q\n"
     ]
    },
    {
     "name": "stdout",
     "output_type": "stream",
     "text": [
      "Thanks for trying, goodbye!\n"
     ]
    }
   ],
   "source": [
    "while True:\n",
    "    answer = input(\"What is the answer to the Great Question of Life, the Universe and Everything? (q to quit)\")\n",
    "    if answer == \"42\":\n",
    "        print(\"Yes\")\n",
    "    elif answer.lower() == \"forty two\":\n",
    "        print(\"Yes\")\n",
    "    elif answer.lower() == \"forty-two\":\n",
    "        print(\"Yes\") \n",
    "    elif answer.lower() == \"q\":\n",
    "        print(\"Thanks for trying, goodbye!\")\n",
    "        break\n",
    "    else:\n",
    "        print(\"No\")"
   ]
  },
  {
   "cell_type": "markdown",
   "id": "1b5b0e0a-bb76-4923-9ce4-248b3f085729",
   "metadata": {},
   "source": [
    "Playback Speed"
   ]
  },
  {
   "cell_type": "code",
   "execution_count": 38,
   "id": "4f44c546-2323-44f6-a144-77537b92c83e",
   "metadata": {},
   "outputs": [
    {
     "name": "stdin",
     "output_type": "stream",
     "text": [
      "Say something please (q to quit) say something fast\n"
     ]
    },
    {
     "name": "stdout",
     "output_type": "stream",
     "text": [
      "say...something...fast\n"
     ]
    },
    {
     "name": "stdin",
     "output_type": "stream",
     "text": [
      "Say something please (q to quit) q\n"
     ]
    }
   ],
   "source": [
    "while True:\n",
    "    speech = input(\"Say something please (q to quit)\")\n",
    "    if speech.lower() == \"q\":\n",
    "        break\n",
    "    else:        \n",
    "        speech = speech.replace(\" \",\"...\")\n",
    "        print(speech)"
   ]
  },
  {
   "cell_type": "markdown",
   "id": "e53efc04-f1e0-4502-ad0e-c690af963145",
   "metadata": {},
   "source": [
    "Database and Grades"
   ]
  },
  {
   "cell_type": "code",
   "execution_count": 7,
   "id": "bbee68f4-3e3f-4afa-920d-964bae1c127d",
   "metadata": {},
   "outputs": [
    {
     "name": "stdin",
     "output_type": "stream",
     "text": [
      "Enter your name:  Carson\n",
      "Create a password:  carson03\n",
      "Enter your grade for Math:  100\n",
      "Enter your grade for Physics:  100\n",
      "Enter your grade for Geography:  100\n",
      "Enter your grade for Chemistry:  100\n"
     ]
    },
    {
     "name": "stdout",
     "output_type": "stream",
     "text": [
      "Account created successfully!\n"
     ]
    }
   ],
   "source": [
    "database = {}\n",
    "\n",
    "username = input(\"Enter your name: \")\n",
    "\n",
    "if username in database:\n",
    "    password = input(\"Enter your password: \")\n",
    "    \n",
    "    while database[username][\"password\"] != password:\n",
    "        print(\"Incorrect password. Please try again.\")\n",
    "        password = input(\"Enter your password: \")\n",
    "    \n",
    "    print(\"Your grades:\")\n",
    "    for subject, grade in database[username]['grades'].items():\n",
    "        print(f\"{subject}: {grade}\")\n",
    "else:\n",
    "    password = input(\"Create a password: \")\n",
    "    grades = {}\n",
    "    \n",
    "    for subject in ['Math', 'Physics', 'Geography', 'Chemistry']:\n",
    "        grade = input(f\"Enter your grade for {subject}: \")\n",
    "        grades[subject] = grade\n",
    "    \n",
    "    database[username] = {'password': password, 'grades': grades}\n",
    "    print(\"Account created successfully!\")"
   ]
  },
  {
   "cell_type": "code",
   "execution_count": 12,
   "id": "8866038d-225b-494e-80ce-54511b58368c",
   "metadata": {},
   "outputs": [
    {
     "name": "stdin",
     "output_type": "stream",
     "text": [
      "Enter your name:  Carson\n",
      "Create a password:  carson\n",
      "Enter your grade for Math:  100\n",
      "Enter your grade for Physics:  100\n",
      "Enter your grade for Geography:  100\n",
      "Enter your grade for Chemistry:  100\n"
     ]
    },
    {
     "name": "stdout",
     "output_type": "stream",
     "text": [
      "Account created successfully!\n",
      "who_passed_1 -> ['Curie', 'Einstein']\n",
      "who_passed_2 -> ['Cruise', 'Gandhi', 'Hawking', 'Newton']\n",
      "who_passed_3 -> []\n"
     ]
    }
   ],
   "source": [
    "database = {}\n",
    "\n",
    "while True:\n",
    "    username = input(\"Enter your name: \")\n",
    "    \n",
    "    if username in database:\n",
    "        password = input(\"Enter your password: \")\n",
    "        while database[username]['password'] != password:\n",
    "            print(\"Incorrect password. Please try again.\")\n",
    "            password = input(\"Enter your password: \")\n",
    "        print(\"Your grades:\")\n",
    "        for subject, grade in database[username]['grades'].items():\n",
    "            print(f\"{subject}: {grade}\")\n",
    "        break\n",
    "    else:\n",
    "        password = input(\"Create a password: \")\n",
    "        grades = {}\n",
    "        for subject in ['Math', 'Physics', 'Geography', 'Chemistry']:\n",
    "            grade = input(f\"Enter your grade for {subject}: \")\n",
    "            grades[subject] = grade\n",
    "        database[username] = {'password': password, 'grades': grades}\n",
    "        print(\"Account created successfully!\")\n",
    "        break\n",
    "\n",
    "student_scores_1 = {\n",
    "    \"Einstein\": [5/5, 50/50, 10/10, 10/10],\n",
    "    \"Jordan\": [4/8, 50/57, 7/10, 10/18],\n",
    "    \"Tesla\": [8/10, 22/25, 3/5, 5/5],\n",
    "    \"Curie\": [3/3, 20/20]\n",
    "}\n",
    "student_scores_2 = {\n",
    "    \"Hawking\": [10/10],\n",
    "    \"Newton\": [30/30],\n",
    "    \"Gandhi\": [100/100],\n",
    "    \"Cruise\": [1/1]\n",
    "}\n",
    "student_scores_3 = {\n",
    "    \"Turing\": [10/10, 2/4],\n",
    "    \"Ali\": [7/9, 2/3]\n",
    "}\n",
    "\n",
    "who_passed_1 = []\n",
    "for student, scores in student_scores_1.items():\n",
    "    perfect_score = True\n",
    "    for score in scores:\n",
    "        if score != 1:\n",
    "            perfect_score = False\n",
    "            break\n",
    "    if perfect_score:\n",
    "        who_passed_1.append(student)\n",
    "who_passed_1.sort()\n",
    "\n",
    "who_passed_2 = []\n",
    "for student, scores in student_scores_2.items():\n",
    "    perfect_score = True\n",
    "    for score in scores:\n",
    "        if score != 1:\n",
    "            perfect_score = False\n",
    "            break\n",
    "    if perfect_score:\n",
    "        who_passed_2.append(student)\n",
    "who_passed_2.sort()\n",
    "\n",
    "who_passed_3 = []\n",
    "for student, scores in student_scores_3.items():\n",
    "    perfect_score = True\n",
    "    for score in scores:\n",
    "        if score != 1:\n",
    "            perfect_score = False\n",
    "            break\n",
    "    if perfect_score:\n",
    "        who_passed_3.append(student)\n",
    "who_passed_3.sort()\n",
    "\n",
    "print(\"who_passed_1 ->\", who_passed_1)\n",
    "print(\"who_passed_2 ->\", who_passed_2)\n",
    "print(\"who_passed_3 ->\", who_passed_3)\n"
   ]
  },
  {
   "cell_type": "markdown",
   "id": "88197665-21f4-4f5d-a859-9668c21e7127",
   "metadata": {},
   "source": [
    "Pluralizing"
   ]
  },
  {
   "cell_type": "code",
   "execution_count": 59,
   "id": "e6abdaf5-9c15-49cd-a42a-231b134e6454",
   "metadata": {},
   "outputs": [
    {
     "name": "stdin",
     "output_type": "stream",
     "text": [
      "Enter your name (q to quit) Carson\n"
     ]
    },
    {
     "name": "stdout",
     "output_type": "stream",
     "text": [
      "Hello Carson, you get 8 mangoes. Enjoy!\n"
     ]
    },
    {
     "name": "stdin",
     "output_type": "stream",
     "text": [
      "Enter your name (q to quit) Carson\n"
     ]
    },
    {
     "name": "stdout",
     "output_type": "stream",
     "text": [
      "Hello Carson, you get 7 pineapples. Enjoy!\n"
     ]
    },
    {
     "name": "stdin",
     "output_type": "stream",
     "text": [
      "Enter your name (q to quit) Carson\n"
     ]
    },
    {
     "name": "stdout",
     "output_type": "stream",
     "text": [
      "Sorry Carson, you get no fruit today\n"
     ]
    },
    {
     "name": "stdin",
     "output_type": "stream",
     "text": [
      "Enter your name (q to quit) q\n"
     ]
    }
   ],
   "source": [
    "fruitList = [\"apple\",\"banana\",\"orange\",\"grape\",\"kiwi\",\"mango\",\"strawberry\",\"pineapple\",\"watermelon\",\"cherry\"]\n",
    "import random\n",
    "\n",
    "while True:\n",
    "    name = input(\"Enter your name (q to quit)\")\n",
    "    fruitType = random.randint(0,9)\n",
    "    numOfFruit = random.randint(0,10)\n",
    "    fruit = fruitList[fruitType]\n",
    "    if name == \"q\":\n",
    "        break\n",
    "    elif numOfFruit == 1:\n",
    "        print(f\"Hello {name}, you get {numOfFruit} {fruit}. Enjoy!\")\n",
    "    elif (fruitType == 5) and (numOfFruit > 1):\n",
    "        print(f\"Hello {name}, you get {numOfFruit} mangoes. Enjoy!\")\n",
    "    elif (fruitType == 6) and (numOfFruit > 1):\n",
    "        print(f\"Hello {name}, you get {numOfFruit} strawberries. Enjoy!\")\n",
    "    elif (fruitType == 9) and (numOfFruit > 1):\n",
    "        print(f\"Hello {name}, you get {numOfFruit} cherries. Enjoy!\")\n",
    "    elif numOfFruit == 0:\n",
    "        print(f\"Sorry {name}, you get no fruit today\")\n",
    "    else:\n",
    "        print(f\"Hello {name}, you get {numOfFruit} {fruit}s. Enjoy!\")"
   ]
  },
  {
   "cell_type": "code",
   "execution_count": null,
   "id": "8428d186-200b-4821-bade-11011702a815",
   "metadata": {},
   "outputs": [],
   "source": []
  }
 ],
 "metadata": {
  "kernelspec": {
   "display_name": "base",
   "language": "python",
   "name": "base"
  },
  "language_info": {
   "codemirror_mode": {
    "name": "ipython",
    "version": 3
   },
   "file_extension": ".py",
   "mimetype": "text/x-python",
   "name": "python",
   "nbconvert_exporter": "python",
   "pygments_lexer": "ipython3",
   "version": "3.11.5"
  }
 },
 "nbformat": 4,
 "nbformat_minor": 5
}
